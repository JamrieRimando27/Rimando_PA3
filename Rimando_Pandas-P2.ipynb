{
 "cells": [
  {
   "cell_type": "markdown",
   "id": "f9de0665-113c-48ca-8be5-07699e2d5cdb",
   "metadata": {},
   "source": [
    "# PROBLEM #2"
   ]
  },
  {
   "cell_type": "code",
   "execution_count": 26,
   "id": "ad0d2b41-6ce5-4af5-ad9d-08b0703a6126",
   "metadata": {},
   "outputs": [
    {
     "name": "stdout",
     "output_type": "stream",
     "text": [
      "a.\n",
      "               Model  cyl   hp     wt  vs  gear\n",
      "0          Mazda RX4    6  110  2.620   0     4\n",
      "1      Mazda RX4 Wag    6  110  2.875   0     4\n",
      "2         Datsun 710    4   93  2.320   1     4\n",
      "3     Hornet 4 Drive    6  110  3.215   1     3\n",
      "4  Hornet Sportabout    8  175  3.440   0     3\n",
      "\n",
      "b.\n",
      "       Model   mpg  cyl   disp   hp  drat    wt   qsec  vs  am  gear  carb\n",
      "0  Mazda RX4  21.0    6  160.0  110   3.9  2.62  16.46   0   1     4     4\n",
      "\n",
      "c.\n",
      "8\n",
      "\n",
      "d.\n",
      "             Model  cyl  gear\n",
      "1    Mazda RX4 Wag    6     4\n",
      "18     Honda Civic    4     4\n",
      "28  Ford Pantera L    8     5\n"
     ]
    }
   ],
   "source": [
    "import pandas as pd\n",
    "\n",
    "cars = pd.read_csv(\"cars.csv\")\n",
    "\n",
    "print(\"a.\")\n",
    "print(cars.iloc[0:5, 0::2])\n",
    "\n",
    "print(\"\\nb.\")\n",
    "print(cars[cars['Model'] == 'Mazda RX4'])\n",
    "\n",
    "print(\"\\nc.\")\n",
    "print(cars.loc[cars['Model'] == 'Camaro Z28', 'cyl'].values[0])\n",
    "\n",
    "print(\"\\nd.\")\n",
    "print(cars[cars['Model'].isin(['Mazda RX4 Wag','Ford Pantera L','Honda Civic'])][['Model','cyl','gear']])\n"
   ]
  },
  {
   "cell_type": "code",
   "execution_count": null,
   "id": "1b15cbac-1b20-4a0a-92f3-7a65f979336f",
   "metadata": {},
   "outputs": [],
   "source": []
  }
 ],
 "metadata": {
  "kernelspec": {
   "display_name": "Python 3 (ipykernel)",
   "language": "python",
   "name": "python3"
  },
  "language_info": {
   "codemirror_mode": {
    "name": "ipython",
    "version": 3
   },
   "file_extension": ".py",
   "mimetype": "text/x-python",
   "name": "python",
   "nbconvert_exporter": "python",
   "pygments_lexer": "ipython3",
   "version": "3.13.5"
  }
 },
 "nbformat": 4,
 "nbformat_minor": 5
}
